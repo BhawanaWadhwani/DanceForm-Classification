{
 "cells": [
  {
   "cell_type": "code",
   "execution_count": 1,
   "metadata": {},
   "outputs": [
    {
     "name": "stderr",
     "output_type": "stream",
     "text": [
      "Using TensorFlow backend.\n"
     ]
    }
   ],
   "source": [
    "import tensorflow as tf\n",
    "import os\n",
    "import zipfile\n",
    "from os import path, getcwd, chdir\n",
    "import pandas as pd\n",
    "import keras\n",
    "from keras.models import Sequential\n",
    "from keras.layers import Dense, Dropout, Flatten\n",
    "from keras.layers import Conv2D, MaxPooling2D\n",
    "from keras.utils import to_categorical\n",
    "from keras.preprocessing import image\n",
    "import numpy as np\n",
    "import pandas as pd\n",
    "import matplotlib.pyplot as plt\n",
    "from sklearn.model_selection import train_test_split\n",
    "from keras.utils import to_categorical\n",
    "from tqdm import tqdm"
   ]
  },
  {
   "cell_type": "code",
   "execution_count": 2,
   "metadata": {},
   "outputs": [],
   "source": [
    "path = f\"{getcwd()}/dataset-2.zip\""
   ]
  },
  {
   "cell_type": "code",
   "execution_count": 3,
   "metadata": {},
   "outputs": [],
   "source": [
    "zip_ref = zipfile.ZipFile(path, 'r')\n",
    "zip_ref.extractall(\"/tmp/h-or-s\")\n",
    "zip_ref.close()"
   ]
  },
  {
   "cell_type": "code",
   "execution_count": 4,
   "metadata": {},
   "outputs": [],
   "source": [
    "train = pd.read_csv('train.csv')"
   ]
  },
  {
   "cell_type": "code",
   "execution_count": 5,
   "metadata": {},
   "outputs": [
    {
     "data": {
      "text/html": [
       "<div>\n",
       "<style scoped>\n",
       "    .dataframe tbody tr th:only-of-type {\n",
       "        vertical-align: middle;\n",
       "    }\n",
       "\n",
       "    .dataframe tbody tr th {\n",
       "        vertical-align: top;\n",
       "    }\n",
       "\n",
       "    .dataframe thead th {\n",
       "        text-align: right;\n",
       "    }\n",
       "</style>\n",
       "<table border=\"1\" class=\"dataframe\">\n",
       "  <thead>\n",
       "    <tr style=\"text-align: right;\">\n",
       "      <th></th>\n",
       "      <th>Image</th>\n",
       "      <th>target</th>\n",
       "    </tr>\n",
       "  </thead>\n",
       "  <tbody>\n",
       "    <tr>\n",
       "      <td>0</td>\n",
       "      <td>96.jpg</td>\n",
       "      <td>manipuri</td>\n",
       "    </tr>\n",
       "    <tr>\n",
       "      <td>1</td>\n",
       "      <td>163.jpg</td>\n",
       "      <td>bharatanatyam</td>\n",
       "    </tr>\n",
       "    <tr>\n",
       "      <td>2</td>\n",
       "      <td>450.jpg</td>\n",
       "      <td>odissi</td>\n",
       "    </tr>\n",
       "    <tr>\n",
       "      <td>3</td>\n",
       "      <td>219.jpg</td>\n",
       "      <td>kathakali</td>\n",
       "    </tr>\n",
       "    <tr>\n",
       "      <td>4</td>\n",
       "      <td>455.jpg</td>\n",
       "      <td>odissi</td>\n",
       "    </tr>\n",
       "    <tr>\n",
       "      <td>...</td>\n",
       "      <td>...</td>\n",
       "      <td>...</td>\n",
       "    </tr>\n",
       "    <tr>\n",
       "      <td>359</td>\n",
       "      <td>72.jpg</td>\n",
       "      <td>manipuri</td>\n",
       "    </tr>\n",
       "    <tr>\n",
       "      <td>360</td>\n",
       "      <td>253.jpg</td>\n",
       "      <td>mohiniyattam</td>\n",
       "    </tr>\n",
       "    <tr>\n",
       "      <td>361</td>\n",
       "      <td>404.jpg</td>\n",
       "      <td>kuchipudi</td>\n",
       "    </tr>\n",
       "    <tr>\n",
       "      <td>362</td>\n",
       "      <td>89.jpg</td>\n",
       "      <td>manipuri</td>\n",
       "    </tr>\n",
       "    <tr>\n",
       "      <td>363</td>\n",
       "      <td>311.jpg</td>\n",
       "      <td>mohiniyattam</td>\n",
       "    </tr>\n",
       "  </tbody>\n",
       "</table>\n",
       "<p>364 rows × 2 columns</p>\n",
       "</div>"
      ],
      "text/plain": [
       "       Image         target\n",
       "0     96.jpg       manipuri\n",
       "1    163.jpg  bharatanatyam\n",
       "2    450.jpg         odissi\n",
       "3    219.jpg      kathakali\n",
       "4    455.jpg         odissi\n",
       "..       ...            ...\n",
       "359   72.jpg       manipuri\n",
       "360  253.jpg   mohiniyattam\n",
       "361  404.jpg      kuchipudi\n",
       "362   89.jpg       manipuri\n",
       "363  311.jpg   mohiniyattam\n",
       "\n",
       "[364 rows x 2 columns]"
      ]
     },
     "execution_count": 5,
     "metadata": {},
     "output_type": "execute_result"
    }
   ],
   "source": [
    "train[0:][0:]"
   ]
  },
  {
   "cell_type": "code",
   "execution_count": 6,
   "metadata": {},
   "outputs": [
    {
     "name": "stderr",
     "output_type": "stream",
     "text": [
      "  0%|          | 0/364 [00:00<?, ?it/s]/opt/anaconda3/lib/python3.7/site-packages/keras_preprocessing/image/utils.py:104: UserWarning: grayscale is deprecated. Please use color_mode = \"grayscale\"\n",
      "  warnings.warn('grayscale is deprecated. Please use '\n",
      "100%|██████████| 364/364 [00:03<00:00, 97.50it/s] \n"
     ]
    }
   ],
   "source": [
    "train_image = []\n",
    "for i in tqdm(range(train.shape[0])):\n",
    "    img = image.load_img('downloads/dataset-2/train/'+train['Image'][i], target_size=(28,28,1), grayscale=True)\n",
    "    img = image.img_to_array(img)\n",
    "    img = img/255\n",
    "    train_image.append(img)\n",
    "X = np.array(train_image)"
   ]
  },
  {
   "cell_type": "code",
   "execution_count": 7,
   "metadata": {},
   "outputs": [],
   "source": [
    "for i in range(train.shape[0]):\n",
    "    if(train['target'][i]=='manipuri'):\n",
    "        train['target'][i]=1\n",
    "    elif(train['target'][i]=='bharatanatyam'):\n",
    "        train['target'][i]=2\n",
    "    elif(train['target'][i]=='odissi'):\n",
    "        train['target'][i]=3\n",
    "    elif(train['target'][i]=='kathakali'):\n",
    "        train['target'][i]=4\n",
    "    elif(train['target'][i]=='sattriya'):\n",
    "        train['target'][i]=5\n",
    "    elif(train['target'][i]=='kathak'):\n",
    "        train['target'][i]=6\n",
    "    elif(train['target'][i]=='mohiniyattam'):\n",
    "        train['target'][i]=7\n",
    "    elif(train['target'][i]=='kuchipudi'):\n",
    "        train['target'][i]=8\n",
    "    else:\n",
    "        train['target'][i]=9"
   ]
  },
  {
   "cell_type": "code",
   "execution_count": 8,
   "metadata": {},
   "outputs": [],
   "source": [
    "y=train['target'].values\n",
    "y = to_categorical(y)"
   ]
  },
  {
   "cell_type": "code",
   "execution_count": null,
   "metadata": {},
   "outputs": [],
   "source": [
    "#noise = np.random.random((IMG_SIZE, IMG_SIZE), np.uint8)\n",
    "#Matrix addition.. add noise to the image\n",
    "#image += noise"
   ]
  },
  {
   "cell_type": "code",
   "execution_count": 9,
   "metadata": {},
   "outputs": [],
   "source": [
    "class myCallback(tf.keras.callbacks.Callback):\n",
    "        def on_epoch_end(self, epoch, logs={}):\n",
    "            if(logs.get('acc')>0.96):\n",
    "                print(\"\\nReached 96% accuracy so cancelling training!\")\n",
    "                self.model.stop_training = True\n",
    "callbacks = myCallback()"
   ]
  },
  {
   "cell_type": "code",
   "execution_count": 10,
   "metadata": {},
   "outputs": [],
   "source": [
    "X_train, X_test, y_train, y_test = train_test_split(X, y, random_state=42, test_size=0.2)"
   ]
  },
  {
   "cell_type": "code",
   "execution_count": 14,
   "metadata": {},
   "outputs": [],
   "source": [
    "model = Sequential()\n",
    "model.add(Conv2D(32, kernel_size=(3, 3),activation='relu',input_shape=(28,28,1)))\n",
    "model.add(Conv2D(64, (3, 3), activation='relu'))\n",
    "model.add(MaxPooling2D(pool_size=(2, 2)))\n",
    "model.add(Dropout(0.25))\n",
    "model.add(Flatten())\n",
    "model.add(Dense(128, activation='relu'))\n",
    "model.add(Dropout(0.5))\n",
    "model.add(Dense(9, activation='softmax'))"
   ]
  },
  {
   "cell_type": "code",
   "execution_count": 15,
   "metadata": {},
   "outputs": [],
   "source": [
    "model.compile(loss='categorical_crossentropy',optimizer='Adam',metrics=['acc'])"
   ]
  },
  {
   "cell_type": "code",
   "execution_count": 16,
   "metadata": {},
   "outputs": [
    {
     "name": "stdout",
     "output_type": "stream",
     "text": [
      "Train on 291 samples, validate on 73 samples\n",
      "Epoch 1/40\n",
      "291/291 [==============================] - 3s 10ms/step - loss: 2.1655 - acc: 0.1168 - val_loss: 2.1116 - val_acc: 0.1918\n",
      "Epoch 2/40\n",
      "291/291 [==============================] - 1s 3ms/step - loss: 2.0564 - acc: 0.1821 - val_loss: 2.0237 - val_acc: 0.1781\n",
      "Epoch 3/40\n",
      "291/291 [==============================] - 1s 3ms/step - loss: 2.0151 - acc: 0.2302 - val_loss: 1.9999 - val_acc: 0.2740\n",
      "Epoch 4/40\n",
      "291/291 [==============================] - 1s 3ms/step - loss: 1.8514 - acc: 0.3402 - val_loss: 1.9150 - val_acc: 0.2329\n",
      "Epoch 5/40\n",
      "291/291 [==============================] - 1s 3ms/step - loss: 1.7561 - acc: 0.3643 - val_loss: 1.8824 - val_acc: 0.3425\n",
      "Epoch 6/40\n",
      "291/291 [==============================] - 1s 3ms/step - loss: 1.5947 - acc: 0.4845 - val_loss: 1.8115 - val_acc: 0.3699\n",
      "Epoch 7/40\n",
      "291/291 [==============================] - 1s 4ms/step - loss: 1.3922 - acc: 0.5533 - val_loss: 1.7903 - val_acc: 0.4384\n",
      "Epoch 8/40\n",
      "291/291 [==============================] - 1s 4ms/step - loss: 1.2103 - acc: 0.5945 - val_loss: 1.7820 - val_acc: 0.3288\n",
      "Epoch 9/40\n",
      "291/291 [==============================] - 1s 4ms/step - loss: 1.0811 - acc: 0.6495 - val_loss: 1.8431 - val_acc: 0.4521\n",
      "Epoch 10/40\n",
      "291/291 [==============================] - 1s 3ms/step - loss: 0.9523 - acc: 0.6873 - val_loss: 1.7260 - val_acc: 0.4384\n",
      "Epoch 11/40\n",
      "291/291 [==============================] - 1s 3ms/step - loss: 0.7705 - acc: 0.7663 - val_loss: 1.8932 - val_acc: 0.4110\n",
      "Epoch 12/40\n",
      "291/291 [==============================] - 1s 3ms/step - loss: 0.6896 - acc: 0.7869 - val_loss: 1.8725 - val_acc: 0.3836\n",
      "Epoch 13/40\n",
      "291/291 [==============================] - 1s 3ms/step - loss: 0.5657 - acc: 0.8385 - val_loss: 1.9687 - val_acc: 0.4110\n",
      "Epoch 14/40\n",
      "291/291 [==============================] - 1s 3ms/step - loss: 0.4964 - acc: 0.8557 - val_loss: 1.9797 - val_acc: 0.4384\n",
      "Epoch 15/40\n",
      "291/291 [==============================] - 1s 3ms/step - loss: 0.4050 - acc: 0.8557 - val_loss: 2.1383 - val_acc: 0.3836\n",
      "Epoch 16/40\n",
      "291/291 [==============================] - 1s 4ms/step - loss: 0.3156 - acc: 0.9210 - val_loss: 2.1826 - val_acc: 0.3699\n",
      "Epoch 17/40\n",
      "291/291 [==============================] - 1s 4ms/step - loss: 0.3258 - acc: 0.9175 - val_loss: 2.2643 - val_acc: 0.3973\n",
      "Epoch 18/40\n",
      "291/291 [==============================] - 1s 4ms/step - loss: 0.3923 - acc: 0.9003 - val_loss: 2.1304 - val_acc: 0.4110\n",
      "Epoch 19/40\n",
      "291/291 [==============================] - 1s 3ms/step - loss: 0.2949 - acc: 0.9278 - val_loss: 2.1997 - val_acc: 0.3973\n",
      "Epoch 20/40\n",
      "291/291 [==============================] - 1s 3ms/step - loss: 0.2038 - acc: 0.9588 - val_loss: 2.4477 - val_acc: 0.3836\n",
      "Epoch 21/40\n",
      "291/291 [==============================] - 1s 3ms/step - loss: 0.2217 - acc: 0.9347 - val_loss: 2.2134 - val_acc: 0.4110\n",
      "Epoch 22/40\n",
      "291/291 [==============================] - 1s 4ms/step - loss: 0.1682 - acc: 0.9553 - val_loss: 2.3807 - val_acc: 0.3973\n",
      "Epoch 23/40\n",
      "291/291 [==============================] - 1s 4ms/step - loss: 0.1484 - acc: 0.9691 - val_loss: 2.5283 - val_acc: 0.3973\n",
      "\n",
      "Reached 96% accuracy so cancelling training!\n"
     ]
    },
    {
     "data": {
      "text/plain": [
       "<keras.callbacks.callbacks.History at 0x1a46f89710>"
      ]
     },
     "execution_count": 16,
     "metadata": {},
     "output_type": "execute_result"
    }
   ],
   "source": [
    "model.fit(X_train, y_train, epochs=40, validation_data=(X_test, y_test),callbacks=[callbacks])"
   ]
  },
  {
   "cell_type": "code",
   "execution_count": 17,
   "metadata": {},
   "outputs": [],
   "source": [
    "test_file = pd.read_csv('test.csv')"
   ]
  },
  {
   "cell_type": "code",
   "execution_count": 18,
   "metadata": {},
   "outputs": [
    {
     "data": {
      "text/html": [
       "<div>\n",
       "<style scoped>\n",
       "    .dataframe tbody tr th:only-of-type {\n",
       "        vertical-align: middle;\n",
       "    }\n",
       "\n",
       "    .dataframe tbody tr th {\n",
       "        vertical-align: top;\n",
       "    }\n",
       "\n",
       "    .dataframe thead th {\n",
       "        text-align: right;\n",
       "    }\n",
       "</style>\n",
       "<table border=\"1\" class=\"dataframe\">\n",
       "  <thead>\n",
       "    <tr style=\"text-align: right;\">\n",
       "      <th></th>\n",
       "      <th>Image</th>\n",
       "    </tr>\n",
       "  </thead>\n",
       "  <tbody>\n",
       "    <tr>\n",
       "      <td>0</td>\n",
       "      <td>508.jpg</td>\n",
       "    </tr>\n",
       "    <tr>\n",
       "      <td>1</td>\n",
       "      <td>246.jpg</td>\n",
       "    </tr>\n",
       "    <tr>\n",
       "      <td>2</td>\n",
       "      <td>473.jpg</td>\n",
       "    </tr>\n",
       "    <tr>\n",
       "      <td>3</td>\n",
       "      <td>485.jpg</td>\n",
       "    </tr>\n",
       "    <tr>\n",
       "      <td>4</td>\n",
       "      <td>128.jpg</td>\n",
       "    </tr>\n",
       "    <tr>\n",
       "      <td>...</td>\n",
       "      <td>...</td>\n",
       "    </tr>\n",
       "    <tr>\n",
       "      <td>151</td>\n",
       "      <td>366.jpg</td>\n",
       "    </tr>\n",
       "    <tr>\n",
       "      <td>152</td>\n",
       "      <td>226.jpg</td>\n",
       "    </tr>\n",
       "    <tr>\n",
       "      <td>153</td>\n",
       "      <td>35.jpg</td>\n",
       "    </tr>\n",
       "    <tr>\n",
       "      <td>154</td>\n",
       "      <td>458.jpg</td>\n",
       "    </tr>\n",
       "    <tr>\n",
       "      <td>155</td>\n",
       "      <td>358.jpg</td>\n",
       "    </tr>\n",
       "  </tbody>\n",
       "</table>\n",
       "<p>156 rows × 1 columns</p>\n",
       "</div>"
      ],
      "text/plain": [
       "       Image\n",
       "0    508.jpg\n",
       "1    246.jpg\n",
       "2    473.jpg\n",
       "3    485.jpg\n",
       "4    128.jpg\n",
       "..       ...\n",
       "151  366.jpg\n",
       "152  226.jpg\n",
       "153   35.jpg\n",
       "154  458.jpg\n",
       "155  358.jpg\n",
       "\n",
       "[156 rows x 1 columns]"
      ]
     },
     "execution_count": 18,
     "metadata": {},
     "output_type": "execute_result"
    }
   ],
   "source": [
    "test_file"
   ]
  },
  {
   "cell_type": "code",
   "execution_count": 19,
   "metadata": {},
   "outputs": [
    {
     "name": "stderr",
     "output_type": "stream",
     "text": [
      "  0%|          | 0/156 [00:00<?, ?it/s]/opt/anaconda3/lib/python3.7/site-packages/keras_preprocessing/image/utils.py:104: UserWarning: grayscale is deprecated. Please use color_mode = \"grayscale\"\n",
      "  warnings.warn('grayscale is deprecated. Please use '\n",
      "100%|██████████| 156/156 [00:01<00:00, 88.17it/s] \n"
     ]
    }
   ],
   "source": [
    "test_image = []\n",
    "for i in tqdm(range(test_file.shape[0])):\n",
    "    img = image.load_img('downloads/dataset-2/test/'+test_file['Image'][i], target_size=(28,28,1), grayscale=True)\n",
    "    img = image.img_to_array(img)\n",
    "    img = img/255\n",
    "    test_image.append(img)\n",
    "test = np.array(test_image)"
   ]
  },
  {
   "cell_type": "code",
   "execution_count": 20,
   "metadata": {},
   "outputs": [],
   "source": [
    "prediction = model.predict_classes(test)"
   ]
  },
  {
   "cell_type": "code",
   "execution_count": 21,
   "metadata": {},
   "outputs": [
    {
     "data": {
      "text/plain": [
       "array([3, 5, 3, 3, 6, 8, 1, 8, 5, 8, 7, 2, 5, 5, 5, 2, 7, 2, 7, 3, 8, 7,\n",
       "       4, 7, 1, 4, 7, 2, 4, 2, 5, 3, 1, 2, 7, 7, 3, 3, 1, 8, 6, 6, 3, 7,\n",
       "       5, 7, 8, 5, 4, 8, 7, 7, 6, 5, 4, 8, 8, 3, 8, 5, 4, 5, 6, 7, 8, 8,\n",
       "       4, 2, 4, 8, 6, 2, 7, 7, 6, 4, 1, 5, 7, 1, 7, 8, 7, 8, 8, 4, 5, 8,\n",
       "       1, 7, 1, 7, 6, 8, 7, 6, 6, 5, 3, 7, 8, 4, 4, 5, 2, 8, 4, 5, 1, 3,\n",
       "       5, 4, 8, 3, 8, 4, 7, 4, 7, 8, 3, 8, 8, 7, 3, 7, 5, 5, 3, 3, 6, 5,\n",
       "       2, 4, 5, 5, 3, 1, 3, 6, 5, 6, 8, 4, 8, 4, 8, 5, 1, 3, 5, 5, 8, 6,\n",
       "       3, 5])"
      ]
     },
     "execution_count": 21,
     "metadata": {},
     "output_type": "execute_result"
    }
   ],
   "source": [
    "prediction"
   ]
  },
  {
   "cell_type": "code",
   "execution_count": 22,
   "metadata": {},
   "outputs": [
    {
     "data": {
      "text/plain": [
       "156"
      ]
     },
     "execution_count": 22,
     "metadata": {},
     "output_type": "execute_result"
    }
   ],
   "source": [
    "len(prediction)"
   ]
  },
  {
   "cell_type": "code",
   "execution_count": 23,
   "metadata": {},
   "outputs": [],
   "source": [
    "lst=[]\n",
    "for i in range(156):\n",
    "    if(prediction[i]==1):\n",
    "        lst.append('manipuri')\n",
    "    elif(prediction[i]==2):\n",
    "        lst.append('bharatanatyam')\n",
    "    elif(prediction[i]==3):\n",
    "        lst.append('odissi')\n",
    "    elif(prediction[i]==4):\n",
    "        lst.append('kathakali')\n",
    "    elif(prediction[i]==5):\n",
    "        lst.append('sattriya')\n",
    "    elif(prediction[i]==6):\n",
    "        lst.append('kathak')\n",
    "    elif(prediction[i]==7):\n",
    "        lst.append('mohiniyattam')\n",
    "    elif(prediction[i]==8):\n",
    "        lst.append('kuchipudi')\n",
    "    else:\n",
    "        lst.append('kathak')"
   ]
  },
  {
   "cell_type": "code",
   "execution_count": 24,
   "metadata": {},
   "outputs": [],
   "source": [
    "#df = pd.DataFrame(lst)"
   ]
  },
  {
   "cell_type": "code",
   "execution_count": 25,
   "metadata": {},
   "outputs": [],
   "source": [
    "import pandas\n",
    "df = pandas.DataFrame(data={\"Image\": test_file['Image'], \"target\": lst})\n",
    "df.to_csv(\"./file.csv\", sep=',',index=False)"
   ]
  },
  {
   "cell_type": "code",
   "execution_count": 26,
   "metadata": {},
   "outputs": [],
   "source": [
    "df.to_csv('filename.csv', index=False)"
   ]
  },
  {
   "cell_type": "code",
   "execution_count": 27,
   "metadata": {},
   "outputs": [
    {
     "data": {
      "text/html": [
       "<div>\n",
       "<style scoped>\n",
       "    .dataframe tbody tr th:only-of-type {\n",
       "        vertical-align: middle;\n",
       "    }\n",
       "\n",
       "    .dataframe tbody tr th {\n",
       "        vertical-align: top;\n",
       "    }\n",
       "\n",
       "    .dataframe thead th {\n",
       "        text-align: right;\n",
       "    }\n",
       "</style>\n",
       "<table border=\"1\" class=\"dataframe\">\n",
       "  <thead>\n",
       "    <tr style=\"text-align: right;\">\n",
       "      <th></th>\n",
       "      <th>Image</th>\n",
       "      <th>target</th>\n",
       "    </tr>\n",
       "  </thead>\n",
       "  <tbody>\n",
       "    <tr>\n",
       "      <td>0</td>\n",
       "      <td>508.jpg</td>\n",
       "      <td>odissi</td>\n",
       "    </tr>\n",
       "    <tr>\n",
       "      <td>1</td>\n",
       "      <td>246.jpg</td>\n",
       "      <td>sattriya</td>\n",
       "    </tr>\n",
       "    <tr>\n",
       "      <td>2</td>\n",
       "      <td>473.jpg</td>\n",
       "      <td>odissi</td>\n",
       "    </tr>\n",
       "    <tr>\n",
       "      <td>3</td>\n",
       "      <td>485.jpg</td>\n",
       "      <td>odissi</td>\n",
       "    </tr>\n",
       "    <tr>\n",
       "      <td>4</td>\n",
       "      <td>128.jpg</td>\n",
       "      <td>kathak</td>\n",
       "    </tr>\n",
       "    <tr>\n",
       "      <td>...</td>\n",
       "      <td>...</td>\n",
       "      <td>...</td>\n",
       "    </tr>\n",
       "    <tr>\n",
       "      <td>151</td>\n",
       "      <td>366.jpg</td>\n",
       "      <td>sattriya</td>\n",
       "    </tr>\n",
       "    <tr>\n",
       "      <td>152</td>\n",
       "      <td>226.jpg</td>\n",
       "      <td>kuchipudi</td>\n",
       "    </tr>\n",
       "    <tr>\n",
       "      <td>153</td>\n",
       "      <td>35.jpg</td>\n",
       "      <td>kathak</td>\n",
       "    </tr>\n",
       "    <tr>\n",
       "      <td>154</td>\n",
       "      <td>458.jpg</td>\n",
       "      <td>odissi</td>\n",
       "    </tr>\n",
       "    <tr>\n",
       "      <td>155</td>\n",
       "      <td>358.jpg</td>\n",
       "      <td>sattriya</td>\n",
       "    </tr>\n",
       "  </tbody>\n",
       "</table>\n",
       "<p>156 rows × 2 columns</p>\n",
       "</div>"
      ],
      "text/plain": [
       "       Image     target\n",
       "0    508.jpg     odissi\n",
       "1    246.jpg   sattriya\n",
       "2    473.jpg     odissi\n",
       "3    485.jpg     odissi\n",
       "4    128.jpg     kathak\n",
       "..       ...        ...\n",
       "151  366.jpg   sattriya\n",
       "152  226.jpg  kuchipudi\n",
       "153   35.jpg     kathak\n",
       "154  458.jpg     odissi\n",
       "155  358.jpg   sattriya\n",
       "\n",
       "[156 rows x 2 columns]"
      ]
     },
     "execution_count": 27,
     "metadata": {},
     "output_type": "execute_result"
    }
   ],
   "source": [
    "df"
   ]
  },
  {
   "cell_type": "code",
   "execution_count": 28,
   "metadata": {},
   "outputs": [
    {
     "data": {
      "text/plain": [
       "0"
      ]
     },
     "execution_count": 28,
     "metadata": {},
     "output_type": "execute_result"
    }
   ],
   "source": [
    "lst.count(None)"
   ]
  },
  {
   "cell_type": "code",
   "execution_count": null,
   "metadata": {},
   "outputs": [],
   "source": []
  },
  {
   "cell_type": "code",
   "execution_count": null,
   "metadata": {},
   "outputs": [],
   "source": []
  }
 ],
 "metadata": {
  "kernelspec": {
   "display_name": "Python 3",
   "language": "python",
   "name": "python3"
  },
  "language_info": {
   "codemirror_mode": {
    "name": "ipython",
    "version": 3
   },
   "file_extension": ".py",
   "mimetype": "text/x-python",
   "name": "python",
   "nbconvert_exporter": "python",
   "pygments_lexer": "ipython3",
   "version": "3.7.4"
  }
 },
 "nbformat": 4,
 "nbformat_minor": 2
}
